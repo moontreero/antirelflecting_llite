{
 "cells": [
  {
   "cell_type": "markdown",
   "id": "71e2feaa",
   "metadata": {},
   "source": [
    "## Demostration of an antireflecting coating"
   ]
  },
  {
   "cell_type": "code",
   "execution_count": 1,
   "id": "04e3a6f7",
   "metadata": {},
   "outputs": [],
   "source": [
    "import matplotlib.pyplot as plt\n",
    "import numpy as np\n",
    "\n",
    "j = complex(0,1)\n",
    "wl= np.arange(300.0, 2001.0, 1.0) #<---Wavelengths in interval"
   ]
  },
  {
   "cell_type": "markdown",
   "id": "2d8d1a6c",
   "metadata": {},
   "source": [
    "We define a function that takes as input:\n",
    "\n",
    "* N1, refractive index of the medium\n",
    "* N2, refractive index of the film\n",
    "* N3, refractive index of the substrate\n",
    "* d, thickness of the thin film\n",
    "\n",
    "and returs the reflectance of the system film + substrate:\n",
    "    "
   ]
  },
  {
   "cell_type": "code",
   "execution_count": 2,
   "id": "64717dd5",
   "metadata": {},
   "outputs": [],
   "source": [
    "def R(N1,N2,N3,d):\n",
    "\tdelta= -(2.0*np.pi/wl)*N2*d\n",
    "\tr1= (N1-N2)/(N1+N2)\n",
    "\tr2= (N2-N3)/(N2+N3)\n",
    "\tt1 = 2*N1/(N1+N2)\n",
    "\tt2 = 2*N2/(N2+N3)\n",
    "\tr =(r1+r2*np.exp(-2*j*delta))/(1.0+r1*r2*np.exp(-2*j*delta))\n",
    "\treturn abs(r)*abs(r)*100\t"
   ]
  },
  {
   "cell_type": "markdown",
   "id": "14a44e28",
   "metadata": {},
   "source": [
    "Define the refractive index of the medium and of the substrate"
   ]
  },
  {
   "cell_type": "code",
   "execution_count": 3,
   "id": "0bee5999",
   "metadata": {},
   "outputs": [],
   "source": [
    "n_air = 1\n",
    "n_substrate = 1.50"
   ]
  },
  {
   "cell_type": "markdown",
   "id": "0908e99d",
   "metadata": {},
   "source": [
    "We define the refractive index of the film as the square root of the substrate"
   ]
  },
  {
   "cell_type": "code",
   "execution_count": 4,
   "id": "5892dc40",
   "metadata": {},
   "outputs": [],
   "source": [
    "n_film = n_substrate**0.5"
   ]
  },
  {
   "cell_type": "markdown",
   "id": "f15e6ffb",
   "metadata": {},
   "source": [
    "We define the thickness in nanometers:"
   ]
  },
  {
   "cell_type": "code",
   "execution_count": 5,
   "id": "25537f10",
   "metadata": {},
   "outputs": [],
   "source": [
    "thickness = 500 # in nm"
   ]
  },
  {
   "cell_type": "markdown",
   "id": "6cafd09e",
   "metadata": {},
   "source": [
    "Plot the refractive index of our layer stack"
   ]
  },
  {
   "cell_type": "code",
   "execution_count": 6,
   "id": "31396af7",
   "metadata": {},
   "outputs": [
    {
     "data": {
      "image/png": "[encoded data removed]",
      "text/plain": [
       "<Figure size 432x288 with 1 Axes>"
      ]
     },
     "metadata": {
      "needs_background": "light"
     },
     "output_type": "display_data"
    }
   ],
   "source": [
    "plt.plot(wl,R(n_air, n_film, n_substrate, thickness), label='R film')\n",
    "plt.plot(wl,R(n_air, n_air, n_substrate, thickness), label='R substrate')\n",
    "plt.xlabel(\"Wavelenght (nm)\")\n",
    "plt.ylabel(\"R (%)\")\n",
    "plt.legend(loc='best', fontsize= 10,frameon=False)\n",
    "plt.show()"
   ]
  },
  {
   "cell_type": "code",
   "execution_count": 7,
   "id": "9d08c15a",
   "metadata": {},
   "outputs": [],
   "source": [
    "from ipywidgets import interactive"
   ]
  },
  {
   "cell_type": "code",
   "execution_count": 8,
   "id": "ef38932e",
   "metadata": {},
   "outputs": [],
   "source": [
    "def draw_graph(N2, d): \n",
    "    plt.plot(wl,R(n_air, N2, n_substrate, d), label='R film')\n",
    "    plt.plot(wl,R(n_air, n_air, n_substrate, thickness), label='R substrate')\n",
    "    plt.legend(loc='best', fontsize= 10,frameon=False)\n",
    "    plt.xlabel(\"Wavelenght (nm)\")\n",
    "    plt.ylabel(\"R (%)\")\n",
    "    plt.ylim([0,12])\n",
    "    \n",
    "    plt.show()\n",
    "    "
   ]
  },
  {
   "cell_type": "code",
   "execution_count": 10,
   "id": "1847d44c",
   "metadata": {},
   "outputs": [
    {
     "data": {
      "application/vnd.jupyter.widget-view+json": {
       "model_id": "1240b82ad3fe471498042736317a17a2",
       "version_major": 2,
       "version_minor": 0
      },
      "text/plain": [
       "interactive(children=(FloatSlider(value=1.3, description='N2', max=1.7, min=1.0), IntSlider(value=250, descrip…"
      ]
     },
     "metadata": {},
     "output_type": "display_data"
    }
   ],
   "source": [
    "interactive_plot = interactive(draw_graph, N2=(1.0,1.7,0.1),d =(0,500,50))\n",
    "output = interactive_plot.children[-1]\n",
    "output.layout.height = '1250px'\n",
    "interactive_plot "
   ]
  },
  {
   "cell_type": "code",
   "execution_count": null,
   "id": "e7796ef7",
   "metadata": {},
   "outputs": [],
   "source": []
  }
 ],
 "metadata": {
  "kernelspec": {
   "display_name": "Python 3",
   "language": "python",
   "name": "python3"
  },
  "language_info": {
   "codemirror_mode": {
    "name": "ipython",
    "version": 3
   },
   "file_extension": ".py",
   "mimetype": "text/x-python",
   "name": "python",
   "nbconvert_exporter": "python",
   "pygments_lexer": "ipython3",
   "version": "3.5.6"
  }
 },
 "nbformat": 4,
 "nbformat_minor": 5
}
